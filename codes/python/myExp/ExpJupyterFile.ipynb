{
 "cells": [
  {
   "cell_type": "markdown",
   "id": "7c81b0bd",
   "metadata": {},
   "source": [
    "# To calculate the exponential using Taylor Series\n"
   ]
  },
  {
   "cell_type": "markdown",
   "id": "50d479e1",
   "metadata": {},
   "source": [
    "## Importing Modules"
   ]
  },
  {
   "cell_type": "code",
   "execution_count": 1,
   "id": "e2445137",
   "metadata": {},
   "outputs": [],
   "source": [
    "import numpy as np\n",
    "import matplotlib.pyplot as plt"
   ]
  },
  {
   "cell_type": "markdown",
   "id": "3dd781b1",
   "metadata": {},
   "source": [
    "## Define factorial function"
   ]
  },
  {
   "cell_type": "code",
   "execution_count": 2,
   "id": "a142113a",
   "metadata": {},
   "outputs": [],
   "source": [
    "def factorial(y):\n",
    "    \"\"\"\n",
    "    Calculate factorial of input\n",
    "    eg. y*(y-1)*(y-2)*(y-3).........(y-y)\n",
    "    \"\"\"\n",
    "    assert y >= 0, \"Factoriall is only defined for positive value\"\n",
    "    factor = 1\n",
    "    for i in range(1,y+1):\n",
    "        i = float(i)\n",
    "        factor = factor*i\n",
    "    return factor"
   ]
  },
  {
   "cell_type": "markdown",
   "id": "8145d072",
   "metadata": {},
   "source": [
    "## Define myexp function"
   ]
  },
  {
   "cell_type": "code",
   "execution_count": 3,
   "id": "b43f91dc",
   "metadata": {},
   "outputs": [],
   "source": [
    "def expCal(x,n=100,convergence = False):\n",
    "    \"\"\"\n",
    "    Exponential function expCalArray()\n",
    "    Array Algorithm\n",
    "    Inputs\n",
    "    x: the number whose exp is to be calculated\n",
    "    n: (default n=100) number of terms to calculate the value of function in taylor series.\n",
    "    convergence: in order to print the convergence set convergence = True\n",
    "    \"\"\"\n",
    "    assert n > 0, \"Number of terms should be Positive and Not Eqaul to zero\"\n",
    "    x = np.array(x)\n",
    "    n = n-1\n",
    "    A = np.zeros((x.size,n+1))\n",
    "    A[:,0] = 1\n",
    "    low = range(1,n+1)\n",
    "    high = range(n,0,-1)\n",
    "    count = 0\n",
    "    for k in np.nditer(x):\n",
    "        k = float(k)\n",
    "        for i,j in zip(low,high):\n",
    "            A[count][i] = k**i/factorial(i)\n",
    "            A[count][j] = k**j/factorial(j)\n",
    "            if i>=j:\n",
    "                break\n",
    "        count = count+1\n",
    "\n",
    "    result = np.sum(A,1)\n",
    "    # print(f\"error is equal to {np.exp(x)-result}\")\n",
    "    if convergence:\n",
    "        import matplotlib.pyplot as plt\n",
    "        filter = np.ravel(A)\n",
    "        filter = abs(np.convolve(filter,[1,-1],'same'))\n",
    "        ranges = range(1,filter.size +1) \n",
    "        fig, ax = plt.subplots()\n",
    "        ax.plot(ranges,filter,label='Convergence')\n",
    "        plt.legend()\n",
    "        plt.show()\n",
    "         \n",
    "    return result\n"
   ]
  },
  {
   "cell_type": "code",
   "execution_count": 4,
   "id": "e5faa09f",
   "metadata": {},
   "outputs": [],
   "source": [
    "def plotting():\n",
    "        import matplotlib.pyplot as plt\n",
    "        \"\"\"\n",
    "        To see plot between custom and numpy exponential function \n",
    "        \"\"\"\n",
    "        ranges = np.linspace(1,100,1000)\n",
    "        myExpCal = expCal(ranges)\n",
    "        numpyExpCal = np.exp(ranges)\n",
    "\n",
    "        fig, ax = plt.subplots()\n",
    "        ax.plot(ranges,numpyExpCal,label='Numpy Exp')\n",
    "        ax.scatter(ranges,myExpCal,color='C1',label='Custom Exp')\n",
    "        plt.legend()\n",
    "        plt.show()"
   ]
  },
  {
   "cell_type": "markdown",
   "id": "0826cb37",
   "metadata": {},
   "source": [
    "## Computational Cost of Numpy exp"
   ]
  },
  {
   "cell_type": "code",
   "execution_count": 5,
   "id": "b02ac7c6",
   "metadata": {},
   "outputs": [
    {
     "name": "stdout",
     "output_type": "stream",
     "text": [
      "1.34 µs ± 139 ns per loop (mean ± std. dev. of 7 runs, 1,000,000 loops each)\n"
     ]
    }
   ],
   "source": [
    "%timeit np.exp(20)"
   ]
  },
  {
   "cell_type": "markdown",
   "id": "83023ab1",
   "metadata": {},
   "source": [
    "## Computational Cost of Custom Exp"
   ]
  },
  {
   "cell_type": "code",
   "execution_count": 6,
   "id": "e48b5e14",
   "metadata": {},
   "outputs": [
    {
     "name": "stdout",
     "output_type": "stream",
     "text": [
      "490 µs ± 6.89 µs per loop (mean ± std. dev. of 7 runs, 1,000 loops each)\n"
     ]
    }
   ],
   "source": [
    "%timeit expCal(20)"
   ]
  },
  {
   "cell_type": "markdown",
   "id": "956232bd",
   "metadata": {},
   "source": [
    "## Plot between numpy exp and custom exp"
   ]
  },
  {
   "cell_type": "code",
   "execution_count": 7,
   "id": "1681c808",
   "metadata": {},
   "outputs": [
    {
     "data": {
      "image/png": "[encoded data removed]",
      "text/plain": [
       "<Figure size 640x480 with 1 Axes>"
      ]
     },
     "metadata": {},
     "output_type": "display_data"
    }
   ],
   "source": [
    "plotting()"
   ]
  }
 ],
 "metadata": {
  "kernelspec": {
   "display_name": "Python 3 (ipykernel)",
   "language": "python",
   "name": "python3"
  },
  "language_info": {
   "codemirror_mode": {
    "name": "ipython",
    "version": 3
   },
   "file_extension": ".py",
   "mimetype": "text/x-python",
   "name": "python",
   "nbconvert_exporter": "python",
   "pygments_lexer": "ipython3",
   "version": "3.10.6"
  }
 },
 "nbformat": 4,
 "nbformat_minor": 5
}
